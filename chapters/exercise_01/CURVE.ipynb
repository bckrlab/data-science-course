{
 "cells": [
  {
   "cell_type": "markdown",
   "id": "ec184ea4",
   "metadata": {},
   "source": [
    "# Hands-on CURVE"
   ]
  },
  {
   "cell_type": "markdown",
   "id": "8bdcb806",
   "metadata": {},
   "source": [
    "This notebook will guide you through a data preprocessing pipeline implementing the CURVE framework you heard about in the lecture.\n",
    "\n",
    "- CURVE: Clean – Unite – Record – Validate – Export\n",
    "- Dataset: Our World in Data (OWID) CO2 + Energy (open, no API key)\n",
    "- Question: Is a higher low-carbon electricity share associated with lower CO2 per capita (2000–2024)?\n",
    "\n",
    "For all included code, think \"What is this doing and why should we do this here?\"."
   ]
  },
  {
   "cell_type": "markdown",
   "id": "310731f7",
   "metadata": {},
   "source": [
    "## Before we start: Configuration\n",
    "\n",
    "We recommend placing import statements as well as variables configuring high-level behaviour at the top of your notebooks."
   ]
  },
  {
   "cell_type": "code",
   "execution_count": null,
   "id": "16d4fc08",
   "metadata": {},
   "outputs": [],
   "source": [
    "import pandas as pd\n",
    "import numpy as np\n",
    "from datetime import date\n",
    "import platform\n",
    "import matplotlib.pyplot as plt\n",
    "\n",
    "YEARS = (2000, 2024)\n",
    "MISSING_POLICY = \"drop\"         # options: \"drop\" | \"interpolate\"\n",
    "INTERP_LIMIT = 2                # max consecutive years to fill when interpolating\n",
    "EXPORT_BASENAME = f\"owid_co2_energy_ready_{date.today().isoformat()}\"\n",
    "\n",
    "CO2_URL    = \"https://raw.githubusercontent.com/owid/co2-data/master/owid-co2-data.csv\"\n",
    "ENERGY_URL = \"https://raw.githubusercontent.com/owid/energy-data/master/owid-energy-data.csv\""
   ]
  },
  {
   "cell_type": "markdown",
   "id": "79ef851d",
   "metadata": {},
   "source": [
    "# C = Clean (load + tidy columns + filter countries/years)"
   ]
  },
  {
   "cell_type": "code",
   "execution_count": null,
   "id": "5bd2dbfc",
   "metadata": {},
   "outputs": [],
   "source": [
    "co2_raw = pd.read_csv(CO2_URL)\n",
    "energy_raw = pd.read_csv(ENERGY_URL)\n",
    "\n",
    "co2_keep = [\"iso_code\", \"country\", \"year\", \"co2_per_capita\", \"co2\"]  # co2 = total Mt (optional)\n",
    "co2 = co2_raw[co2_keep].copy()\n",
    "\n",
    "# Ensure year numeric and drop rows missing iso_code/year early\n",
    "co2[\"year\"] = pd.to_numeric(co2[\"year\"], errors=\"coerce\")\n",
    "co2 = co2.dropna(subset=[\"iso_code\", \"year\"]).assign(year=lambda d: d[\"year\"].astype(int))\n",
    "\n",
    "# Prefer low_carbon_electricity_share; fall back to renewables_share_elec if needed\n",
    "cands = [c for c in energy_raw.columns if \"low_carbon_electricity_share\" in c] \\\n",
    "        or [c for c in energy_raw.columns if \"renewables_share_elec\" in c]\n",
    "share_col = cands[0]\n",
    "\n",
    "energy_keep = [\"iso_code\", \"country\", \"year\", share_col, \"electricity_demand\", \"population\", \"gdp\"]\n",
    "energy = energy_raw[energy_keep].copy()\n",
    "\n",
    "energy[\"year\"] = pd.to_numeric(energy[\"year\"], errors=\"coerce\")\n",
    "energy = energy.dropna(subset=[\"iso_code\", \"year\"]).assign(year=lambda d: d[\"year\"].astype(int))\n",
    "\n",
    "# Keep only countries (OWID convention: 3-letter ISO codes are countries; others are aggregates)\n",
    "co2    = co2[co2[\"iso_code\"].astype(str).str.len() == 3]\n",
    "energy = energy[energy[\"iso_code\"].astype(str).str.len() == 3]\n",
    "\n",
    "# Year window\n",
    "co2    = co2.query(f\"{YEARS[0]} <= year <= {YEARS[1]}\")\n",
    "energy = energy.query(f\"{YEARS[0]} <= year <= {YEARS[1]}\")"
   ]
  },
  {
   "cell_type": "markdown",
   "id": "b432613a",
   "metadata": {},
   "source": [
    "# U = UNITE (inner-join by iso_code + year)\n",
    "\n",
    "Implement an inner join between the co2 and energy data, matching the ISO code, country and year values."
   ]
  },
  {
   "cell_type": "code",
   "execution_count": null,
   "id": "4a42afff",
   "metadata": {},
   "outputs": [],
   "source": [
    "# TODO\n",
    "df = None"
   ]
  },
  {
   "cell_type": "code",
   "execution_count": null,
   "id": "bad490d2",
   "metadata": {},
   "outputs": [],
   "source": [
    "df = df.rename(columns={share_col: \"low_carbon_elec_share\"})"
   ]
  },
  {
   "cell_type": "markdown",
   "id": "3f295b0f",
   "metadata": {},
   "source": [
    "# R = RECORD (note decisions in comments)\n",
    "\n",
    "- What are the data sources?\n",
    "- What major decisions on how to handle the data have been taken?\n",
    "  - Was any data removed?\n",
    "  - Were data types changed?\n",
    "  - Were columns/rows/cells merged or split?"
   ]
  },
  {
   "cell_type": "markdown",
   "id": "8b0e1e16",
   "metadata": {},
   "source": [
    "# V = VALIDATE"
   ]
  },
  {
   "cell_type": "markdown",
   "id": "5d844424",
   "metadata": {},
   "source": [
    "## Handling missing data\n",
    "\n",
    "Add the code path where missing data is being dropped."
   ]
  },
  {
   "cell_type": "code",
   "execution_count": null,
   "id": "40c4b729",
   "metadata": {},
   "outputs": [],
   "source": [
    "req_cols = [\"co2_per_capita\", \"low_carbon_elec_share\"]\n",
    "\n",
    "# Missing data policy: DROP vs INTERPOLATE\n",
    "if MISSING_POLICY == \"drop\":\n",
    "    # TODO\n",
    "    pass\n",
    "elif MISSING_POLICY == \"interpolate\":\n",
    "    # Interpolate within each country over time (linear), up to INTERP_LIMIT consecutive years\n",
    "    df = df.sort_values([\"iso_code\", \"year\"])\n",
    "    def _interp_country(g):\n",
    "        g = g.copy()\n",
    "        for c in req_cols:\n",
    "            g[c] = g[c].interpolate(method=\"linear\", limit=INTERP_LIMIT, limit_direction=\"both\")\n",
    "        # optional: clamp to valid share range after interpolation\n",
    "        if c == \"low_carbon_elec_share\":\n",
    "            g[\"low_carbon_elec_share\"] = g[\"low_carbon_elec_share\"].clip(lower=0, upper=100)\n",
    "        return g\n",
    "    na_before = df[req_cols].isna().sum().sum()\n",
    "    df = df.groupby(\"iso_code\", group_keys=False).apply(_interp_country)\n",
    "    na_after = df[req_cols].isna().sum().sum()\n",
    "    print(f\"[Missing policy: INTERPOLATE] NA cells before: {na_before}  after: {na_after}\")\n",
    "    # If some NAs remain (long gaps), drop them so validation is simple for students.\n",
    "    if na_after > 0:\n",
    "        rows_before = len(df)\n",
    "        df = df.dropna(subset=req_cols)\n",
    "        print(f\"Remaining NA rows removed after interpolation: {rows_before - len(df)}\")\n",
    "    print(\"Comment: OK for short, smooth gaps; document the assumption. Avoid long-gap fills or extrapolation.\")\n",
    "else:\n",
    "    raise ValueError(\"MISSING_POLICY must be 'drop' or 'interpolate'.\")"
   ]
  },
  {
   "cell_type": "markdown",
   "id": "27e8859c",
   "metadata": {},
   "source": [
    "## Check essential properties (Plain asserts for readability)\n",
    "\n",
    "- Implement an assertion, that checks that there are no repeated ISO codes or years.\n",
    "- Implement an assertion, that checks that all values in `low_carbon_elec_share` are within the interval [0,100]."
   ]
  },
  {
   "cell_type": "code",
   "execution_count": null,
   "id": "2e5be90b",
   "metadata": {},
   "outputs": [],
   "source": [
    "# 1) Keys unique per (iso_code, year)\n",
    "# TODO\n",
    "\n",
    "# 2) Required fields not NA\n",
    "assert ~df[req_cols].isna().any().any(), \"Missing values remain in required columns.\"\n",
    "\n",
    "# 3) Value ranges\n",
    "assert (df[\"co2_per_capita\"] >= 0).all(), \"Negative CO2 per capita values detected.\"\n",
    "# TODO\n",
    "\n",
    "# 4) Optional plausibility cap (very high extremes rarely occur)\n",
    "assert df.loc[(df[\"co2_per_capita\"] > 80) | (df[\"low_carbon_elec_share\"] > 100)].empty, \"Implausible extremes present.\"\n",
    "\n",
    "print(\"Validation passed ✅\")"
   ]
  },
  {
   "cell_type": "markdown",
   "id": "e3cc62bb",
   "metadata": {},
   "source": [
    "## Quick sanity outputs"
   ]
  },
  {
   "cell_type": "code",
   "execution_count": null,
   "id": "951bbc3d",
   "metadata": {},
   "outputs": [],
   "source": [
    "n_countries = df[\"iso_code\"].nunique()\n",
    "n_rows = len(df)\n",
    "print(f\"Countries: {n_countries} | Rows: {n_rows} | Years: [{df['year'].min()}–{df['year'].max()}]\")\n",
    "\n",
    "# Simple correlation (pooled; not causal)\n",
    "corr = df[[\"co2_per_capita\", \"low_carbon_elec_share\"]].corr().iloc[0,1]\n",
    "print(f\"Pearson corr(co2_per_capita, low_carbon_elec_share) = {corr:.3f}\")\n",
    "\n",
    "# Tiny scatter for a feel (random 3 countries)\n",
    "sample_c = df[\"iso_code\"].drop_duplicates().sample(n=min(3, n_countries), random_state=0).tolist()\n",
    "sub = df[df[\"iso_code\"].isin(sample_c)]\n",
    "plt.figure(figsize=(6,4))\n",
    "for c in sample_c:\n",
    "    cc = sub[sub[\"iso_code\"]==c]\n",
    "    plt.scatter(cc[\"low_carbon_elec_share\"], cc[\"co2_per_capita\"], label=c, s=18, alpha=0.8)\n",
    "plt.xlabel(\"Low-carbon electricity share (%)\")\n",
    "plt.ylabel(\"CO₂ per capita (t/person)\")\n",
    "plt.title(\"Sample countries across 2000–2024\")\n",
    "plt.legend(title=\"ISO\")\n",
    "plt.tight_layout()\n",
    "plt.show()"
   ]
  },
  {
   "cell_type": "markdown",
   "id": "c9cc09a4",
   "metadata": {},
   "source": [
    "# E = EXPORT (freeze)\n",
    "\n",
    "Save the contents of `df` in CSV format without the index."
   ]
  },
  {
   "cell_type": "code",
   "execution_count": null,
   "id": "94dbc968",
   "metadata": {},
   "outputs": [],
   "source": []
  },
  {
   "cell_type": "markdown",
   "id": "b989ba1e",
   "metadata": {},
   "source": [
    "## Reproduction notes (helpful printout)\n",
    "\n",
    "- Print version information for your installation of Python as well as used packages.\n",
    "- Print configuration values.\n",
    "- Print column names, that you saved in the previous step."
   ]
  },
  {
   "cell_type": "code",
   "execution_count": null,
   "id": "9859ce18",
   "metadata": {},
   "outputs": [],
   "source": []
  }
 ],
 "metadata": {
  "kernelspec": {
   "display_name": "data-science-ws-25-26",
   "language": "python",
   "name": "python3"
  },
  "language_info": {
   "codemirror_mode": {
    "name": "ipython",
    "version": 3
   },
   "file_extension": ".py",
   "mimetype": "text/x-python",
   "name": "python",
   "nbconvert_exporter": "python",
   "pygments_lexer": "ipython3",
   "version": "3.13.7"
  }
 },
 "nbformat": 4,
 "nbformat_minor": 5
}
