{
 "cells": [
  {
   "cell_type": "markdown",
   "metadata": {
    "tags": [
     "placeholder"
    ]
   },
   "source": [
    "# Preprocessing, Group Evaluation, Hyperparameter Optimization and Gradient Descent"
   ]
  },
  {
   "cell_type": "markdown",
   "metadata": {},
   "source": [
    "## Preprocessing"
   ]
  },
  {
   "cell_type": "markdown",
   "metadata": {},
   "source": [
    "### Example ordinal vs categorical"
   ]
  },
  {
   "cell_type": "markdown",
   "metadata": {},
   "source": [
    "Given the house prices dataset from the first regression example in an earlier exercise:\n",
    "\n",
    "1. Give some example features for the four different data types from the lecture. \n",
    "2. Name at least two issues in this dataset and two others that could occur when training a model.\n",
    "3. Assume that you are given the postal code of a house - what other features could you add to the data based on that? Why do you think I ask this question?"
   ]
  },
  {
   "cell_type": "code",
   "execution_count": 3,
   "metadata": {},
   "outputs": [
    {
     "name": "stdout",
     "output_type": "stream",
     "text": [
      "--------\n",
      "MSSubClass\n",
      "  * unique: 15\n",
      "  * NAs:    0\n",
      "--------\n",
      "MSZoning\n",
      "  * unique: 5\n",
      "  * NAs:    0\n",
      "  * values: ['RL' 'RM' 'C (all)' 'FV' 'RH']\n",
      "--------\n",
      "LotFrontage\n",
      "  * unique: 110\n",
      "  * NAs:    259\n",
      "--------\n",
      "LotArea\n",
      "  * unique: 1073\n",
      "  * NAs:    0\n",
      "--------\n",
      "Street\n",
      "  * unique: 2\n",
      "  * NAs:    0\n",
      "  * values: ['Pave' 'Grvl']\n",
      "--------\n",
      "Alley\n",
      "  * unique: 2\n",
      "  * NAs:    1369\n",
      "  * values: [nan 'Grvl' 'Pave']\n",
      "--------\n",
      "LotShape\n",
      "  * unique: 4\n",
      "  * NAs:    0\n",
      "  * values: ['Reg' 'IR1' 'IR2' 'IR3']\n",
      "--------\n",
      "LandContour\n",
      "  * unique: 4\n",
      "  * NAs:    0\n",
      "  * values: ['Lvl' 'Bnk' 'Low' 'HLS']\n",
      "--------\n",
      "Utilities\n",
      "  * unique: 2\n",
      "  * NAs:    0\n",
      "  * values: ['AllPub' 'NoSeWa']\n",
      "--------\n",
      "LotConfig\n",
      "  * unique: 5\n",
      "  * NAs:    0\n",
      "  * values: ['Inside' 'FR2' 'Corner' 'CulDSac' 'FR3']\n",
      "--------\n",
      "LandSlope\n",
      "  * unique: 3\n",
      "  * NAs:    0\n",
      "  * values: ['Gtl' 'Mod' 'Sev']\n",
      "--------\n",
      "Neighborhood\n",
      "  * unique: 25\n",
      "  * NAs:    0\n",
      "--------\n",
      "Condition1\n",
      "  * unique: 9\n",
      "  * NAs:    0\n",
      "  * values: ['Norm' 'Feedr' 'PosN' 'Artery' 'RRAe' 'RRNn' 'RRAn' 'PosA' 'RRNe']\n",
      "--------\n",
      "Condition2\n",
      "  * unique: 8\n",
      "  * NAs:    0\n",
      "  * values: ['Norm' 'Artery' 'RRNn' 'Feedr' 'PosN' 'PosA' 'RRAn' 'RRAe']\n",
      "--------\n",
      "BldgType\n",
      "  * unique: 5\n",
      "  * NAs:    0\n",
      "  * values: ['1Fam' '2fmCon' 'Duplex' 'TwnhsE' 'Twnhs']\n",
      "--------\n",
      "HouseStyle\n",
      "  * unique: 8\n",
      "  * NAs:    0\n",
      "  * values: ['2Story' '1Story' '1.5Fin' '1.5Unf' 'SFoyer' 'SLvl' '2.5Unf' '2.5Fin']\n",
      "--------\n",
      "OverallQual\n",
      "  * unique: 10\n",
      "  * NAs:    0\n",
      "--------\n",
      "OverallCond\n",
      "  * unique: 9\n",
      "  * NAs:    0\n",
      "  * values: [5 8 6 7 4 2 3 9 1]\n",
      "--------\n",
      "YearBuilt\n",
      "  * unique: 112\n",
      "  * NAs:    0\n",
      "--------\n",
      "YearRemodAdd\n",
      "  * unique: 61\n",
      "  * NAs:    0\n",
      "--------\n",
      "RoofStyle\n",
      "  * unique: 6\n",
      "  * NAs:    0\n",
      "  * values: ['Gable' 'Hip' 'Gambrel' 'Mansard' 'Flat' 'Shed']\n",
      "--------\n",
      "RoofMatl\n",
      "  * unique: 8\n",
      "  * NAs:    0\n",
      "  * values: ['CompShg' 'WdShngl' 'Metal' 'WdShake' 'Membran' 'Tar&Grv' 'Roll'\n",
      " 'ClyTile']\n",
      "--------\n",
      "Exterior1st\n",
      "  * unique: 15\n",
      "  * NAs:    0\n",
      "--------\n",
      "Exterior2nd\n",
      "  * unique: 16\n",
      "  * NAs:    0\n",
      "--------\n",
      "MasVnrType\n",
      "  * unique: 3\n",
      "  * NAs:    872\n",
      "  * values: ['BrkFace' nan 'Stone' 'BrkCmn']\n",
      "--------\n",
      "MasVnrArea\n",
      "  * unique: 327\n",
      "  * NAs:    8\n",
      "--------\n",
      "ExterQual\n",
      "  * unique: 4\n",
      "  * NAs:    0\n",
      "  * values: ['Gd' 'TA' 'Ex' 'Fa']\n",
      "--------\n",
      "ExterCond\n",
      "  * unique: 5\n",
      "  * NAs:    0\n",
      "  * values: ['TA' 'Gd' 'Fa' 'Po' 'Ex']\n",
      "--------\n",
      "Foundation\n",
      "  * unique: 6\n",
      "  * NAs:    0\n",
      "  * values: ['PConc' 'CBlock' 'BrkTil' 'Wood' 'Slab' 'Stone']\n",
      "--------\n",
      "BsmtQual\n",
      "  * unique: 4\n",
      "  * NAs:    37\n",
      "  * values: ['Gd' 'TA' 'Ex' nan 'Fa']\n",
      "--------\n",
      "BsmtCond\n",
      "  * unique: 4\n",
      "  * NAs:    37\n",
      "  * values: ['TA' 'Gd' nan 'Fa' 'Po']\n",
      "--------\n",
      "BsmtExposure\n",
      "  * unique: 4\n",
      "  * NAs:    38\n",
      "  * values: ['No' 'Gd' 'Mn' 'Av' nan]\n",
      "--------\n",
      "BsmtFinType1\n",
      "  * unique: 6\n",
      "  * NAs:    37\n",
      "  * values: ['GLQ' 'ALQ' 'Unf' 'Rec' 'BLQ' nan 'LwQ']\n",
      "--------\n",
      "BsmtFinSF1\n",
      "  * unique: 637\n",
      "  * NAs:    0\n",
      "--------\n",
      "BsmtFinType2\n",
      "  * unique: 6\n",
      "  * NAs:    38\n",
      "  * values: ['Unf' 'BLQ' nan 'ALQ' 'Rec' 'LwQ' 'GLQ']\n",
      "--------\n",
      "BsmtFinSF2\n",
      "  * unique: 144\n",
      "  * NAs:    0\n",
      "--------\n",
      "BsmtUnfSF\n",
      "  * unique: 780\n",
      "  * NAs:    0\n",
      "--------\n",
      "TotalBsmtSF\n",
      "  * unique: 721\n",
      "  * NAs:    0\n",
      "--------\n",
      "Heating\n",
      "  * unique: 6\n",
      "  * NAs:    0\n",
      "  * values: ['GasA' 'GasW' 'Grav' 'Wall' 'OthW' 'Floor']\n",
      "--------\n",
      "HeatingQC\n",
      "  * unique: 5\n",
      "  * NAs:    0\n",
      "  * values: ['Ex' 'Gd' 'TA' 'Fa' 'Po']\n",
      "--------\n",
      "CentralAir\n",
      "  * unique: 2\n",
      "  * NAs:    0\n",
      "  * values: ['Y' 'N']\n",
      "--------\n",
      "Electrical\n",
      "  * unique: 5\n",
      "  * NAs:    1\n",
      "  * values: ['SBrkr' 'FuseF' 'FuseA' 'FuseP' 'Mix' nan]\n",
      "--------\n",
      "1stFlrSF\n",
      "  * unique: 753\n",
      "  * NAs:    0\n",
      "--------\n",
      "2ndFlrSF\n",
      "  * unique: 417\n",
      "  * NAs:    0\n",
      "--------\n",
      "LowQualFinSF\n",
      "  * unique: 24\n",
      "  * NAs:    0\n",
      "--------\n",
      "GrLivArea\n",
      "  * unique: 861\n",
      "  * NAs:    0\n",
      "--------\n",
      "BsmtFullBath\n",
      "  * unique: 4\n",
      "  * NAs:    0\n",
      "  * values: [1 0 2 3]\n",
      "--------\n",
      "BsmtHalfBath\n",
      "  * unique: 3\n",
      "  * NAs:    0\n",
      "  * values: [0 1 2]\n",
      "--------\n",
      "FullBath\n",
      "  * unique: 4\n",
      "  * NAs:    0\n",
      "  * values: [2 1 3 0]\n",
      "--------\n",
      "HalfBath\n",
      "  * unique: 3\n",
      "  * NAs:    0\n",
      "  * values: [1 0 2]\n",
      "--------\n",
      "BedroomAbvGr\n",
      "  * unique: 8\n",
      "  * NAs:    0\n",
      "  * values: [3 4 1 2 0 5 6 8]\n",
      "--------\n",
      "KitchenAbvGr\n",
      "  * unique: 4\n",
      "  * NAs:    0\n",
      "  * values: [1 2 3 0]\n",
      "--------\n",
      "KitchenQual\n",
      "  * unique: 4\n",
      "  * NAs:    0\n",
      "  * values: ['Gd' 'TA' 'Ex' 'Fa']\n",
      "--------\n",
      "TotRmsAbvGrd\n",
      "  * unique: 12\n",
      "  * NAs:    0\n",
      "--------\n",
      "Functional\n",
      "  * unique: 7\n",
      "  * NAs:    0\n",
      "  * values: ['Typ' 'Min1' 'Maj1' 'Min2' 'Mod' 'Maj2' 'Sev']\n",
      "--------\n",
      "Fireplaces\n",
      "  * unique: 4\n",
      "  * NAs:    0\n",
      "  * values: [0 1 2 3]\n",
      "--------\n",
      "FireplaceQu\n",
      "  * unique: 5\n",
      "  * NAs:    690\n",
      "  * values: [nan 'TA' 'Gd' 'Fa' 'Ex' 'Po']\n",
      "--------\n",
      "GarageType\n",
      "  * unique: 6\n",
      "  * NAs:    81\n",
      "  * values: ['Attchd' 'Detchd' 'BuiltIn' 'CarPort' nan 'Basment' '2Types']\n",
      "--------\n",
      "GarageYrBlt\n",
      "  * unique: 97\n",
      "  * NAs:    81\n",
      "--------\n",
      "GarageFinish\n",
      "  * unique: 3\n",
      "  * NAs:    81\n",
      "  * values: ['RFn' 'Unf' 'Fin' nan]\n",
      "--------\n",
      "GarageCars\n",
      "  * unique: 5\n",
      "  * NAs:    0\n",
      "  * values: [2 3 1 0 4]\n",
      "--------\n",
      "GarageArea\n",
      "  * unique: 441\n",
      "  * NAs:    0\n",
      "--------\n",
      "GarageQual\n",
      "  * unique: 5\n",
      "  * NAs:    81\n",
      "  * values: ['TA' 'Fa' 'Gd' nan 'Ex' 'Po']\n",
      "--------\n",
      "GarageCond\n",
      "  * unique: 5\n",
      "  * NAs:    81\n",
      "  * values: ['TA' 'Fa' nan 'Gd' 'Po' 'Ex']\n",
      "--------\n",
      "PavedDrive\n",
      "  * unique: 3\n",
      "  * NAs:    0\n",
      "  * values: ['Y' 'N' 'P']\n",
      "--------\n",
      "WoodDeckSF\n",
      "  * unique: 274\n",
      "  * NAs:    0\n",
      "--------\n",
      "OpenPorchSF\n",
      "  * unique: 202\n",
      "  * NAs:    0\n",
      "--------\n",
      "EnclosedPorch\n",
      "  * unique: 120\n",
      "  * NAs:    0\n",
      "--------\n",
      "3SsnPorch\n",
      "  * unique: 20\n",
      "  * NAs:    0\n",
      "--------\n",
      "ScreenPorch\n",
      "  * unique: 76\n",
      "  * NAs:    0\n",
      "--------\n",
      "PoolArea\n",
      "  * unique: 8\n",
      "  * NAs:    0\n",
      "  * values: [  0 512 648 576 555 480 519 738]\n",
      "--------\n",
      "PoolQC\n",
      "  * unique: 3\n",
      "  * NAs:    1453\n",
      "  * values: [nan 'Ex' 'Fa' 'Gd']\n",
      "--------\n",
      "Fence\n",
      "  * unique: 4\n",
      "  * NAs:    1179\n",
      "  * values: [nan 'MnPrv' 'GdWo' 'GdPrv' 'MnWw']\n",
      "--------\n",
      "MiscFeature\n",
      "  * unique: 4\n",
      "  * NAs:    1406\n",
      "  * values: [nan 'Shed' 'Gar2' 'Othr' 'TenC']\n",
      "--------\n",
      "MiscVal\n",
      "  * unique: 21\n",
      "  * NAs:    0\n",
      "--------\n",
      "MoSold\n",
      "  * unique: 12\n",
      "  * NAs:    0\n",
      "--------\n",
      "YrSold\n",
      "  * unique: 5\n",
      "  * NAs:    0\n",
      "  * values: [2008 2007 2006 2009 2010]\n",
      "--------\n",
      "SaleType\n",
      "  * unique: 9\n",
      "  * NAs:    0\n",
      "  * values: ['WD' 'New' 'COD' 'ConLD' 'ConLI' 'CWD' 'ConLw' 'Con' 'Oth']\n",
      "--------\n",
      "SaleCondition\n",
      "  * unique: 6\n",
      "  * NAs:    0\n",
      "  * values: ['Normal' 'Abnorml' 'Partial' 'AdjLand' 'Alloca' 'Family']\n",
      "--------\n",
      "SalePrice\n",
      "  * unique: 663\n",
      "  * NAs:    0\n"
     ]
    }
   ],
   "source": [
    "import pandas as pd\n",
    "\n",
    "data_houses = pd.read_csv(\n",
    "    \"exercise_02_train.csv\", \n",
    "    index_col=\"Id\")\n",
    "\n",
    "for c in data_houses.columns:\n",
    "    f = data_houses[c]\n",
    "    print(\"--------\")\n",
    "    print(c)\n",
    "    n_unique = f.nunique()\n",
    "    print(\"  * unique:\", n_unique)\n",
    "    print(\"  * NAs:   \", f.isna().sum())\n",
    "    if (n_unique < 10):\n",
    "        print(\"  * values:\", f.unique())\n",
    "    "
   ]
  },
  {
   "cell_type": "markdown",
   "metadata": {
    "tags": [
     "placeholder"
    ]
   },
   "source": []
  },
  {
   "cell_type": "markdown",
   "metadata": {},
   "source": [
    "## Evaluation: Groups"
   ]
  },
  {
   "cell_type": "markdown",
   "metadata": {},
   "source": [
    "1. Let's consider a cancer dataset. The goal is to predict the progression of the cancer (e.g., stage 1, stage 2, ...). Each patient appears multiple times in the dataset. Can you randomly split the data into train and test set?\n",
    "2. Read the [documentation of `GroupShuffleSplit`](https://scikit-learn.org/stable/modules/generated/sklearn.model_selection.GroupShuffleSplit.html). What does it do? Explain what the `groups` parameter of the split method is used for!\n",
    "3. Apply `GroupShuffleSplit` on the data below and examine the results. The [documentation of `GroupShuffleSplit`](https://scikit-learn.org/stable/modules/generated/sklearn.model_selection.GroupShuffleSplit.html) also provides an example.\n",
    "4. Also have a look around the different [splitting strategies provided by `scikit-learn`](https://scikit-learn.org/stable/auto_examples/model_selection/plot_cv_indices.html#visualize-cross-validation-indices-for-many-cv-objects)."
   ]
  },
  {
   "cell_type": "markdown",
   "metadata": {
    "tags": [
     "placeholder"
    ]
   },
   "source": []
  },
  {
   "cell_type": "code",
   "execution_count": null,
   "metadata": {},
   "outputs": [],
   "source": [
    "# code to generate data (skip this)\n",
    "import numpy as np\n",
    "import matplotlib.pyplot as plt\n",
    "\n",
    "rng = np.random.RandomState(1338)\n",
    "cmap_data = plt.cm.Paired\n",
    "cmap_cv = plt.cm.coolwarm\n",
    "n_splits = 4\n",
    "\n",
    "# Generate the class/group data\n",
    "n_points = 20\n",
    "X = rng.randn(n_points, 3)\n",
    "\n",
    "y = rng.choice([0,1], n_points)\n",
    "\n",
    "# Generate 10 uneven groups\n",
    "# draw a prior for the likelihood of each group from the Dirichlet Distribution\n",
    "# given that we observed elements of each group alpha_i - 1 time (here, alpha_i = 2)\n",
    "group_prior = rng.dirichlet([2] * 10)\n",
    "# assign a group [0,...,9] to each of the 20 points\n",
    "groups = np.repeat(np.arange(10), rng.multinomial(n_points, group_prior))"
   ]
  },
  {
   "cell_type": "code",
   "execution_count": null,
   "metadata": {},
   "outputs": [],
   "source": [
    "from sklearn.model_selection import GroupShuffleSplit\n",
    "\n",
    "# Task 3: use X, y, groups and apply GroupShuffleSplit\n",
    "X, y, groups\n",
    "X, y, groups"
   ]
  },
  {
   "cell_type": "markdown",
   "metadata": {},
   "source": [
    "## Hyperparameter Optimization"
   ]
  },
  {
   "cell_type": "markdown",
   "metadata": {},
   "source": [
    "1. What is the difference between parameters and hyperparameters of a model? Give examples!\n",
    "2. What is hyperparameter optimization?\n",
    "3. Name two methods for hyperparameter optimization and compare them.\n",
    "\n",
    "For the following dataset, we report the mean absolute error for a `DecisionTreeRegressor` using 10-fold cross validation via the function `cross_val_score`. The function's parameters `cv` and `scoring` are used to set the number of cross validation splits and the validation metric (e.g. `neg_mean_absolute_error`).\n",
    "\n",
    "Aftwerwards we use `GridSearchCV` to optimize the `max_depth` parameter in the range of 1,2,3,4 and 5 for a `DecisionTreeRegressor` and report the same score. For this, we run `GridSearchCV` with a 10-fold cross-valiation. Note the `cv` and `param_grid` parameters of `GridSearchCV`.\n",
    "\n",
    "4. What do you think the notion of *\"nested cross-validation\"*, *\"inner cross-validation\"* and *\"outer cross-validation* refer to in this example?  "
   ]
  },
  {
   "cell_type": "markdown",
   "metadata": {
    "tags": [
     "placeholder"
    ]
   },
   "source": []
  },
  {
   "cell_type": "code",
   "execution_count": 7,
   "metadata": {},
   "outputs": [
    {
     "data": {
      "text/plain": [
       "[<matplotlib.lines.Line2D at 0x7f745f433250>]"
      ]
     },
     "execution_count": 7,
     "metadata": {},
     "output_type": "execute_result"
    },
    {
     "data": {
      "image/png": "[encoded data removed]",
      "text/plain": [
       "<Figure size 640x480 with 1 Axes>"
      ]
     },
     "metadata": {},
     "output_type": "display_data"
    }
   ],
   "source": [
    "import numpy as np\n",
    "import matplotlib.pyplot as plt\n",
    "from sklearn.tree import DecisionTreeRegressor\n",
    "from sklearn.model_selection import cross_val_score, GridSearchCV\n",
    "from sklearn.metrics import mean_absolute_error\n",
    "\n",
    "# generate X and y\n",
    "np.random.seed(12)\n",
    "n_steps = 4\n",
    "X = np.arange(50 * n_steps).reshape((-1,1))\n",
    "y_orig = np.repeat(np.arange(4), int(X.shape[0] / n_steps))\n",
    "y = y_orig + (np.random.random(y_orig.size) - 0.5) * 2\n",
    "\n",
    "# plot data\n",
    "plt.scatter(X, y)\n",
    "plt.plot(X, y_orig)"
   ]
  },
  {
   "cell_type": "code",
   "execution_count": null,
   "metadata": {},
   "outputs": [
    {
     "name": "stdout",
     "output_type": "stream",
     "text": [
      "MAE: 0.648 +/- 0.145\n"
     ]
    }
   ],
   "source": [
    "# normal model\n",
    "model = DecisionTreeRegressor(max_depth=None)\n",
    "results = cross_val_score(model, X, y, cv=10, scoring=\"neg_mean_absolute_error\")\n",
    "\n",
    "print(f\"MAE: {abs(results.mean()):.3f} +/- {results.std():.3f}\")"
   ]
  },
  {
   "cell_type": "code",
   "execution_count": 9,
   "metadata": {},
   "outputs": [
    {
     "name": "stdout",
     "output_type": "stream",
     "text": [
      "MAE: 0.556 +/- 0.066\n"
     ]
    }
   ],
   "source": [
    "# hyper parameter optimization\n",
    "\n",
    "grid_params = {\"max_depth\": [1,2,3,4]}\n",
    "model = GridSearchCV(DecisionTreeRegressor(), cv=10, param_grid=grid_params)\n",
    "results = cross_val_score(model, X, y, cv=10, scoring=\"neg_mean_absolute_error\")\n",
    "\n",
    "print(f\"MAE: {abs(results.mean()):.3f} +/- {results.std():.3f}\")"
   ]
  },
  {
   "cell_type": "markdown",
   "metadata": {},
   "source": [
    "## Gradient Descent"
   ]
  },
  {
   "cell_type": "markdown",
   "metadata": {},
   "source": [
    "### Learning Rate"
   ]
  },
  {
   "cell_type": "markdown",
   "metadata": {},
   "source": [
    "1. Explain the tradeoff between different sizes of learning rate."
   ]
  },
  {
   "cell_type": "markdown",
   "metadata": {
    "tags": [
     "placeholder"
    ]
   },
   "source": []
  },
  {
   "cell_type": "markdown",
   "metadata": {},
   "source": [
    "### Ice Cream Example"
   ]
  },
  {
   "cell_type": "markdown",
   "metadata": {},
   "source": [
    "You are given a dataset with features $x$ (temperature in degree Celsius) and target $y$ (kg of ice cream sold):\n",
    "$\\begin{aligned}\n",
    "x &= (20, 5, 15, 30)^T\\\\\n",
    "y &= (40, 10, 30, 60)^T\n",
    "\\end{aligned}$\n",
    "\n",
    "1. Define the objective for a linear regression model to predict the sold ice cream from the temperature data.\n",
    "2. Compute the gradients of the objective with respect to the parameters of the linear regression model and do one step of gradient descent with learning rate of $2.5 \\cdot 10^{-4}$. The initial parameters are $\\boldsymbol\\beta = (0, 1)^T$.\n",
    "3. Assume the final parameters are $\\boldsymbol\\beta = (0, 2)^T$. What is the interpretation of these values?\n",
    "4. Now, another column is added to the data, that denotes the weather (rainy/foggy/cloudy/sunny). How could you present the model this data?\n",
    "5. What is a reason, that you might want to use SGD instead of the closed form solution to compute the parameters of a linear regression?"
   ]
  },
  {
   "cell_type": "markdown",
   "metadata": {
    "tags": [
     "placeholder"
    ]
   },
   "source": []
  },
  {
   "cell_type": "markdown",
   "metadata": {},
   "source": [
    "### Deriving Gradients"
   ]
  },
  {
   "cell_type": "markdown",
   "metadata": {},
   "source": [
    "1. Do two steps to maximize the following function $f$ via gradient descent. Initial input values are $(x^{(0)}, y^{(0)}) = (1, 0)$. The learning rate equals $1$.\n",
    "$f(x,y) = x^2 + e^{-xy^2}$"
   ]
  },
  {
   "cell_type": "markdown",
   "metadata": {
    "tags": [
     "placeholder"
    ]
   },
   "source": []
  }
 ],
 "metadata": {
  "kernelspec": {
   "display_name": "data-science-ws-24-25",
   "language": "python",
   "name": "python3"
  },
  "language_info": {
   "codemirror_mode": {
    "name": "ipython",
    "version": 3
   },
   "file_extension": ".py",
   "mimetype": "text/x-python",
   "name": "python",
   "nbconvert_exporter": "python",
   "pygments_lexer": "ipython3",
   "version": "3.13.0"
  }
 },
 "nbformat": 4,
 "nbformat_minor": 2
}
