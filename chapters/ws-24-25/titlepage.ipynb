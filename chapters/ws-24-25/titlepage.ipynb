{
 "cells": [
  {
   "cell_type": "markdown",
   "id": "771b0fc5",
   "metadata": {},
   "source": [
    "# Winter Semester 2024/2025\n",
    "\n",
    "This section groups our exercise notebooks from WS24/25."
   ]
  }
 ],
 "metadata": {
  "language_info": {
   "name": "python"
  }
 },
 "nbformat": 4,
 "nbformat_minor": 5
}
