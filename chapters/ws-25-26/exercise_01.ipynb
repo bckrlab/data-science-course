{
 "cells": [
  {
   "cell_type": "markdown",
   "id": "4d72d899",
   "metadata": {},
   "source": [
    "# 01: Intro to Python and CURVE\n",
    "\n",
    "In this exercise, you will get acquainted with Python and the CURVE preprocessing framework.\n",
    "Select the right notebook to start working on based on your skill level.\n",
    "\n",
    "1. If you have never seen Python Code before, start with \"Python Tutorial\".\n",
    "2. If you want to brush up on your Python or have never worked with the big Data Science libraries like numpy or pandas before, start with \"Python Tasks\".\n",
    "3. If you feel comfortable with Python and the big Data Science libraries, you can skip right to \"Hands-on CURVE\"."
   ]
  }
 ],
 "metadata": {
  "language_info": {
   "name": "python"
  }
 },
 "nbformat": 4,
 "nbformat_minor": 5
}
