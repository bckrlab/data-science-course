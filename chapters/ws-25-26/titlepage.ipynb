{
 "cells": [
  {
   "cell_type": "markdown",
   "id": "771b0fc5",
   "metadata": {},
   "source": [
    "# Winter Semester 2025/2026\n",
    "\n",
    "This section groups our exercise notebooks from WS25/26."
   ]
  }
 ],
 "metadata": {
  "language_info": {
   "name": "python"
  }
 },
 "nbformat": 4,
 "nbformat_minor": 5
}
